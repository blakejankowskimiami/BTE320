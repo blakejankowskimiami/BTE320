{
  "nbformat": 4,
  "nbformat_minor": 0,
  "metadata": {
    "colab": {
      "provenance": [],
      "authorship_tag": "ABX9TyP+Ci+25okhOdNdxPKlps1r",
      "include_colab_link": true
    },
    "kernelspec": {
      "name": "python3",
      "display_name": "Python 3"
    },
    "language_info": {
      "name": "python"
    }
  },
  "cells": [
    {
      "cell_type": "markdown",
      "metadata": {
        "id": "view-in-github",
        "colab_type": "text"
      },
      "source": [
        "<a href=\"https://colab.research.google.com/github/blakejankowskimiami/BTE320/blob/main/InClassAssignments.ipynb\" target=\"_parent\"><img src=\"https://colab.research.google.com/assets/colab-badge.svg\" alt=\"Open In Colab\"/></a>"
      ]
    },
    {
      "cell_type": "markdown",
      "source": [
        "Assignment 1: Shape Area Calculator"
      ],
      "metadata": {
        "id": "Q9RRUvkcro3Y"
      }
    },
    {
      "cell_type": "code",
      "execution_count": null,
      "metadata": {
        "colab": {
          "base_uri": "https://localhost:8080/"
        },
        "id": "ZQHcO0M89k_c",
        "outputId": "9777a3ca-d0f1-4184-8848-7baa9ad73546"
      },
      "outputs": [
        {
          "output_type": "stream",
          "name": "stdout",
          "text": [
            "Input Radius: 5\n",
            "Input Height: 10\n",
            "924.4895523648001\n"
          ]
        }
      ],
      "source": [
        "radius = int(input('Input Radius: '))\n",
        "height = int(input('Input Height: '))\n",
        "pi = 3.14\n",
        "\n",
        "area = (2 * pi ** radius) + (2 * pi * radius * height)\n",
        "\n",
        "print(area)"
      ]
    },
    {
      "cell_type": "markdown",
      "source": [
        "Assignment 2: Rock-Paper-Scissors (With while loop)"
      ],
      "metadata": {
        "id": "5Fvl8F9xrvyq"
      }
    },
    {
      "cell_type": "code",
      "source": [
        "import random\n",
        "\n",
        "user_input = input(\"Would you like to play rock, paper, scissors? (y/n): \")\n",
        "\n",
        "while user_input == \"y\":\n",
        "  choice1 = input(\"Please choose rock, paper, or scissors: \")\n",
        "  choice2 = random.choice([\"rock\", \"paper\", \"scissors\"])\n",
        "\n",
        "  if choice1 == choice2:\n",
        "    print(f'The computer chose {choice2}. It is a tie!')\n",
        "  elif choice1 == \"rock\" and choice2 == \"scissors\":\n",
        "    print(f'The computer chose {choice2}. You win!')\n",
        "  elif choice1 == \"paper\" and choice2 == \"rock\":\n",
        "    print(f'The computer chose {choice2}. You win!')\n",
        "  elif choice1 == \"scissors\" and choice2 == \"paper\":\n",
        "    print(f'The computer chose {choice2}. You win!')\n",
        "  else:\n",
        "    print(f'The computer chose {choice2}. You lose!')\n",
        "\n",
        "  user_input = input(\"Would you like to play again? (y/n): \")"
      ],
      "metadata": {
        "id": "1xWbyJYvr267"
      },
      "execution_count": null,
      "outputs": []
    },
    {
      "cell_type": "markdown",
      "source": [
        "Assignment 3: Numerical Calculator"
      ],
      "metadata": {
        "id": "gqHzqnJDr3qh"
      }
    },
    {
      "cell_type": "code",
      "source": [
        "while True:\n",
        "  Num1 = float(input(\"Enter a number: \"))\n",
        "  operator = str(input(\"Enter an operator: \"))\n",
        "\n",
        "  if operator == \"break\" or operator == \"Break\":\n",
        "    print(\"Thanks for using the calculator\")\n",
        "    break\n",
        "\n",
        "  Num2 = float(input(\"Enter another number: \"))\n",
        "\n",
        "  if operator == \"+\":\n",
        "    result = Num1 + Num2\n",
        "  elif operator == \"-\":\n",
        "    result = Num1 - Num2\n",
        "  elif operator == \"*\":\n",
        "    result = Num1 * Num2\n",
        "  elif operator == \"/\":\n",
        "    if Num2 == 0:\n",
        "      print(\"Cannot divide by zero\")\n",
        "      continue\n",
        "    result = Num1 / Num2\n",
        "  elif operator == '//':\n",
        "    if Num2 == 0:\n",
        "      print(\"Cannot divide by zero\")\n",
        "      continue\n",
        "    result = Num1 // Num2\n",
        "  elif operator == '%':\n",
        "    if Num2 == 0:\n",
        "      print(\"Cannot divide by zero\")\n",
        "      continue\n",
        "    result = Num1 % Num2\n",
        "  elif operator == '**':\n",
        "    result = Num1 ** Num2\n",
        "  else:\n",
        "    print(\"Invalid operator\")\n",
        "    continue\n",
        "\n",
        "  print(f\"{Num1} {operator} {Num2} = {result}\")\n",
        ""
      ],
      "metadata": {
        "id": "KEETHifmr8EX"
      },
      "execution_count": null,
      "outputs": []
    },
    {
      "cell_type": "markdown",
      "source": [
        "Assignment 4: Parking Garage"
      ],
      "metadata": {
        "id": "DFJqsl1ir8xo"
      }
    },
    {
      "cell_type": "code",
      "source": [
        "flatRate = 5\n",
        "hourlyRate = 2.5\n",
        "\n",
        "for i in range(1, 9):\n",
        "  charge = flatRate + hourlyRate * i\n",
        "\n",
        "  if charge < 10:\n",
        "    charge = 10\n",
        "  elif charge > 20:\n",
        "    charge = 20\n",
        "\n",
        "  print(f\"Parking Garage {i}: ${charge}\")"
      ],
      "metadata": {
        "colab": {
          "base_uri": "https://localhost:8080/",
          "height": 0
        },
        "id": "_YhzVVPmsAlB",
        "outputId": "9c8cffd1-e5ef-467e-894a-10dfc1448fda"
      },
      "execution_count": 3,
      "outputs": [
        {
          "output_type": "stream",
          "name": "stdout",
          "text": [
            "Parking Garage 1: $10\n",
            "Parking Garage 2: $10.0\n",
            "Parking Garage 3: $12.5\n",
            "Parking Garage 4: $15.0\n",
            "Parking Garage 5: $17.5\n",
            "Parking Garage 6: $20.0\n",
            "Parking Garage 7: $20\n",
            "Parking Garage 8: $20\n"
          ]
        }
      ]
    },
    {
      "cell_type": "markdown",
      "source": [
        "Assignment 5: Movie Theater"
      ],
      "metadata": {
        "id": "5tGWgc9IsA6H"
      }
    },
    {
      "cell_type": "code",
      "source": [
        "print(f'Ad$ Profit')\n",
        "\n",
        "attendees = 20\n",
        "cost = 200\n",
        "\n",
        "for adv in range(0, 201, 25):\n",
        "  ad = float(adv)\n",
        "  attendees = float(2*round(adv**0.5) + attendees)\n",
        "  profit = float((attendees * 10) - adv - cost)\n",
        "  print(f'{ad} {profit}')\n"
      ],
      "metadata": {
        "colab": {
          "base_uri": "https://localhost:8080/",
          "height": 0
        },
        "id": "yfx2qUO6sE8S",
        "outputId": "a9429d09-b1ae-40ee-ab37-0edbc5eba2e2"
      },
      "execution_count": 4,
      "outputs": [
        {
          "output_type": "stream",
          "name": "stdout",
          "text": [
            "Ad$ Profit\n",
            "0.0 0.0\n",
            "25.0 75.0\n",
            "50.0 190.0\n",
            "75.0 345.0\n",
            "100.0 520.0\n",
            "125.0 715.0\n",
            "150.0 930.0\n",
            "175.0 1165.0\n",
            "200.0 1420.0\n"
          ]
        }
      ]
    },
    {
      "cell_type": "markdown",
      "source": [
        "Assignment 6: Months2Numbers Dict"
      ],
      "metadata": {
        "id": "_-Bv_wkFsFOi"
      }
    },
    {
      "cell_type": "code",
      "source": [
        "months = {}\n",
        "names = ['January', 'February', 'March', 'April', 'May', 'June', 'July', 'August', 'September', 'October', 'November', 'December']\n",
        "numbers = [1, 2, 3, 4, 5, 6, 7, 8, 9, 10, 11, 12]\n",
        "\n",
        "for i in range(len(numbers)):\n",
        "  months[numbers[i]] = names[i]\n",
        "\n",
        "print(months)"
      ],
      "metadata": {
        "colab": {
          "base_uri": "https://localhost:8080/",
          "height": 0
        },
        "id": "BChkEa93sJq5",
        "outputId": "c97447e5-9054-4b89-f16f-f5eabdb0b007"
      },
      "execution_count": 5,
      "outputs": [
        {
          "output_type": "stream",
          "name": "stdout",
          "text": [
            "{1: 'January', 2: 'February', 3: 'March', 4: 'April', 5: 'May', 6: 'June', 7: 'July', 8: 'August', 9: 'September', 10: 'October', 11: 'November', 12: 'December'}\n"
          ]
        }
      ]
    },
    {
      "cell_type": "markdown",
      "source": [
        "Assignment 7: Fee Calculation and Display Functions"
      ],
      "metadata": {
        "id": "5UNRmZOWsKF4"
      }
    },
    {
      "cell_type": "code",
      "source": [
        "def displayFee (fee):\n",
        "  print(fee)\n",
        "\n",
        "def calcFee(hours, decimals = 2):\n",
        "  fee = 5 + hours * 2.5\n",
        "  fee = round(fee, decimals)\n",
        "  return fee\n",
        "\n",
        "if __name__ == \"__main__\":\n",
        "  h = int(input(\"Enter hours: \"))\n",
        "  displayFee(calcFee(h))"
      ],
      "metadata": {
        "colab": {
          "base_uri": "https://localhost:8080/",
          "height": 0
        },
        "id": "bSCPleSOsPaT",
        "outputId": "75e80d60-4abc-4617-8ee9-f4c5ee79f932"
      },
      "execution_count": 6,
      "outputs": [
        {
          "output_type": "stream",
          "name": "stdout",
          "text": [
            "Enter hours: 2\n",
            "10.0\n"
          ]
        }
      ]
    },
    {
      "cell_type": "markdown",
      "source": [
        "Assignment 8: Reverse Function (Recursion)"
      ],
      "metadata": {
        "id": "7x_uokVXsQuR"
      }
    },
    {
      "cell_type": "code",
      "source": [
        "def reverse(i):\n",
        "  if len(i) == 1:\n",
        "    return i\n",
        "  else:\n",
        "    return i[-1] + reverse(i[1:-1]) + i[0]\n",
        "    return reverse(i[1:]) + i[0]\n",
        "    return i[-1] + reverse(i[:-1])\n",
        "\n",
        "reverse(\"Hello\")"
      ],
      "metadata": {
        "colab": {
          "base_uri": "https://localhost:8080/",
          "height": 35
        },
        "id": "xjLPTUDqtmdT",
        "outputId": "83ae9102-6f8d-4913-a524-c58ef444daa2"
      },
      "execution_count": 7,
      "outputs": [
        {
          "output_type": "execute_result",
          "data": {
            "text/plain": [
              "'olleH'"
            ],
            "application/vnd.google.colaboratory.intrinsic+json": {
              "type": "string"
            }
          },
          "metadata": {},
          "execution_count": 7
        }
      ]
    },
    {
      "cell_type": "markdown",
      "source": [
        "Assignment 9: Student Class"
      ],
      "metadata": {
        "id": "NCEBLzIbsWCO"
      }
    },
    {
      "cell_type": "code",
      "source": [
        "class Student:\n",
        "  def __init__(self, name, number):\n",
        "    self.__name = name\n",
        "    self.number = number\n",
        "    self.__courses = []\n",
        "\n",
        "  def enroll(self, newCourse):\n",
        "    if newCourse not in self.__courses:\n",
        "      self.__courses.append(newCourse)\n",
        "    else:\n",
        "      print(f'You have already been enrolled in {newCourse}')\n",
        "\n",
        "  def get_courses(self):\n",
        "    return self.__courses\n",
        ""
      ],
      "metadata": {
        "id": "sbhQjkflsZbF"
      },
      "execution_count": 8,
      "outputs": []
    }
  ]
}